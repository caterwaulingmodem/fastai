{
 "cells": [
  {
   "cell_type": "code",
   "execution_count": 1,
   "metadata": {},
   "outputs": [],
   "source": [
    "path = \"data/dogscats/\""
   ]
  },
  {
   "cell_type": "code",
   "execution_count": 2,
   "metadata": {},
   "outputs": [],
   "source": [
    "from os import listdir\n",
    "from os.path import isfile, join\n",
    "\n",
    "from sklearn.cross_validation import train_test_split\n",
    "import random\n",
    "import shutil"
   ]
  },
  {
   "cell_type": "code",
   "execution_count": 5,
   "metadata": {},
   "outputs": [
    {
     "name": "stdout",
     "output_type": "stream",
     "text": [
      "mkdir: cannot create directory ‘valid’: File exists\n",
      "mkdir: cannot create directory ‘sample’: File exists\n"
     ]
    }
   ],
   "source": [
    "%mkdir valid\n",
    "%mkdir sample\n",
    "%mkdir -p sample/train\n",
    "%mkdir -p sample/test"
   ]
  },
  {
   "cell_type": "code",
   "execution_count": 6,
   "metadata": {},
   "outputs": [],
   "source": [
    "all_files = [data_file for data_file in listdir(path+'train') if isfile(join(path+'train', data_file))]\n",
    "\n",
    "random.shuffle(all_files)\n",
    "x_train, x_valid = train_test_split(all_files, test_size=0.10)"
   ]
  },
  {
   "cell_type": "code",
   "execution_count": 43,
   "metadata": {},
   "outputs": [
    {
     "name": "stdout",
     "output_type": "stream",
     "text": [
      "Created directory data/dogscatsredux/valid\n"
     ]
    }
   ],
   "source": [
    "for x in x_valid:\n",
    "    shutil.move(join('train', x), 'valid')"
   ]
  },
  {
   "cell_type": "code",
   "execution_count": null,
   "metadata": {},
   "outputs": [],
   "source": [
    "for x in x_train[:100]:\n",
    "    shutil.copy(join('train', x), 'sample/train')\n",
    "    \n",
    "for x in x_valid[:20]:\n",
    "    shutil.copy(join('valid', x), 'sample/valid')"
   ]
  },
  {
   "cell_type": "code",
   "execution_count": 46,
   "metadata": {},
   "outputs": [],
   "source": [
    "%cd train\n",
    "%mkdir cats\n",
    "%mkdir dogs\n",
    "%mv *.cat.jpg cats\n",
    "%mv *.dog.jpg dogs\n",
    "\n",
    "%cd ../valid\n",
    "%mkdir cats\n",
    "%mkdir dogs\n",
    "%mv *.cat.jpg cats\n",
    "%mv *.dog.jpg dogs\n",
    "\n",
    "%cd ../sample\n",
    "\n",
    "%cd train\n",
    "%mkdir cats\n",
    "%mkdir dogs\n",
    "%mv *.cat.jpg cats\n",
    "%mv *.dog.jpg dogs\n",
    "\n",
    "%cd ../valid\n",
    "%mkdir cats\n",
    "%mkdir dogs\n",
    "%mv *.cat.jpg cats\n",
    "%mv *.dog.jpg dogs"
   ]
  }
 ],
 "metadata": {
  "kernelspec": {
   "display_name": "Python 3",
   "language": "python",
   "name": "python3"
  },
  "language_info": {
   "codemirror_mode": {
    "name": "ipython",
    "version": 3
   },
   "file_extension": ".py",
   "mimetype": "text/x-python",
   "name": "python",
   "nbconvert_exporter": "python",
   "pygments_lexer": "ipython3",
   "version": "3.6.4"
  }
 },
 "nbformat": 4,
 "nbformat_minor": 2
}
